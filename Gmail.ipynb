{
 "cells": [
  {
   "cell_type": "code",
   "execution_count": 1,
   "metadata": {
    "collapsed": true
   },
   "outputs": [],
   "source": [
    "# The below extraction is for Gmail\n",
    "from bs4 import BeautifulSoup\n",
    "from selenium import webdriver\n",
    "from selenium.webdriver.common.keys import Keys\n",
    "import time"
   ]
  },
  {
   "cell_type": "code",
   "execution_count": 3,
   "metadata": {},
   "outputs": [],
   "source": [
    "browser = webdriver.Chrome() # Here webdriver is installed in the same direction. So the path isn't mentioned.\n",
    "browser.get(\"https://www.gmail.com\") # Login page URL\n",
    "username = browser.find_element_by_id(\"identifierId\") # place where email or username is entered. Can be checked using Inspect Element\n",
    "username.send_keys(\"Your Email Id\")\n",
    "signInButton = browser.find_element_by_id('identifierNext') # Next button Id\n",
    "signInButton.click() # Click on Next button\n",
    "time.sleep(5) # Wait\n",
    "#Url would have changed. Do not give browser.get(new_url) here. Because loading of that page would redirect to the previous page.\n",
    "password = browser.find_element_by_name(\"password\")  # place where password is entered. Can be checked using Inspect Element\n",
    "password.send_keys(\"Your Password\")\n",
    "signInButton = browser.find_element_by_id('passwordNext') # Next button Id\n",
    "signInButton.click() # Click on Next button"
   ]
  },
  {
   "cell_type": "code",
   "execution_count": 5,
   "metadata": {},
   "outputs": [],
   "source": [
    "browser.get('https://mail.google.com/mail/u/0/#inbox') # Inbox URL of Gmail\n",
    "content = browser.page_source # Remember to use use the same driver object(\"browser\", in this case)\n",
    "soup = BeautifulSoup(content) # BeautifulSoup to extract page contents.\n",
    "time.sleep(20) #wait\n",
    "div=browser.find_element_by_xpath(\"//*[@class='Cp']\") # Div class of inbox. Prefer xpath as it can take attributes having multi-words seperated by space.\n",
    "table=div.find_element_by_tag_name(\"table\") # Table inside the division\n",
    "rows=table.find_elements_by_tag_name(\"tr\") # All rows in the table. Note: \"elements\" is used instead of \"element\"\n",
    "for i in rows:\n",
    "    print(i.text) # Print the content of each row\n",
    "    print(\"\\n\")\n"
   ]
  }
 ],
 "metadata": {
  "kernelspec": {
   "display_name": "Python 2",
   "language": "python",
   "name": "python2"
  },
  "language_info": {
   "codemirror_mode": {
    "name": "ipython",
    "version": 2
   },
   "file_extension": ".py",
   "mimetype": "text/x-python",
   "name": "python",
   "nbconvert_exporter": "python",
   "pygments_lexer": "ipython2",
   "version": "2.7.14"
  }
 },
 "nbformat": 4,
 "nbformat_minor": 2
}
